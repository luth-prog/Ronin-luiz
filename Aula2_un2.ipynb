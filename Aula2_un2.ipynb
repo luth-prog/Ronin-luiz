{
  "nbformat": 4,
  "nbformat_minor": 0,
  "metadata": {
    "colab": {
      "provenance": [],
      "authorship_tag": "ABX9TyO64mUngnwsZ4kU7/xSMDx9",
      "include_colab_link": true
    },
    "kernelspec": {
      "name": "python3",
      "display_name": "Python 3"
    },
    "language_info": {
      "name": "python"
    }
  },
  "cells": [
    {
      "cell_type": "markdown",
      "metadata": {
        "id": "view-in-github",
        "colab_type": "text"
      },
      "source": [
        "<a href=\"https://colab.research.google.com/github/luth-prog/my_repository/blob/main/Aula2_un2.ipynb\" target=\"_parent\"><img src=\"https://colab.research.google.com/assets/colab-badge.svg\" alt=\"Open In Colab\"/></a>"
      ]
    },
    {
      "cell_type": "code",
      "execution_count": null,
      "metadata": {
        "colab": {
          "base_uri": "https://localhost:8080/"
        },
        "id": "IQL6ap6Nmi_-",
        "outputId": "35b4dbac-fd68-4fe2-ebcf-d2a403d83020"
      },
      "outputs": [
        {
          "output_type": "stream",
          "name": "stdout",
          "text": [
            "Conjunto após adicionar elementos:  {40, 10, 30}\n",
            "O elemtento 20 não está no conjunto\n",
            "Agora adicionamos o elemento\n",
            "Conjunto após adicionar o elemento  {40, 10, 20, 30}\n"
          ]
        }
      ],
      "source": [
        "## add(), in e remove()\n",
        "\n",
        "#Criando nosso conjunto vazio\n",
        "meu_conjunto = set()\n",
        "#Adicionando elementos ao conjunto\n",
        "meu_conjunto.add(10)\n",
        "#meu_conjunto.add(20)\n",
        "meu_conjunto.add(30)\n",
        "meu_conjunto.add(40)\n",
        "#Imprimindo o conjunto\n",
        "print(\"Conjunto após adicionar elementos: \", meu_conjunto)\n",
        "#Verificando se um elemento esta no conjunto\n",
        "elemento = 20\n",
        "if elemento in meu_conjunto:\n",
        "  print(f\"O elemento {elemento} está no conjunto\")\n",
        "  meu_conjunto.remove(elemento)\n",
        "  print(\"Agora removemos o elemento.\")\n",
        "  print(\"Conjunto após remover o elemento: \", meu_conjunto)\n",
        "else:\n",
        "  print(f\"O elemtento {elemento} não está no conjunto\")\n",
        "  meu_conjunto.add(elemento)\n",
        "  print(\"Agora adicionamos o elemento\")\n",
        "  print(\"Conjunto após adicionar o elemento \", meu_conjunto)"
      ]
    },
    {
      "cell_type": "code",
      "source": [
        "#Exemplo 1 - Criando um dicionario vazio, seguido de atribuiçao de chaves e valores\n",
        "dici1 = {}\n",
        "dici1['nome'] = \"Maria\"\n",
        "dici1['idade'] = 25\n",
        "#Exemplo 2 - Criando um dicionario com pares chave:valor\n",
        "dici2 = {'nome' : 'João', 'idade' : 30}\n",
        "#Exemplo 3 = Criação de um dicionario com uma lista de tuplas representando pares chave:valor\n",
        "dici3 = dict([('nome', 'Maria'), ('idade', 25)])\n",
        "#Exemplo 4 - Criação de um dicionario usando a função built-in zip(), e duas listas uma para chaves e outra para valores.\n",
        "dici4 = dict(zip(['nome', 'idade'], ['Maria', 25]))\n",
        "#Teste se todas as contruções resultam em objetos iguais\n",
        "print(dici1 == dici2 == dici3 == dici4) #Precisa imprimir True\n",
        "print(dici1)"
      ],
      "metadata": {
        "colab": {
          "base_uri": "https://localhost:8080/"
        },
        "id": "zPI1YGTo3XZR",
        "outputId": "3de2bd48-f147-4202-8024-d4d0a5dadc8f"
      },
      "execution_count": null,
      "outputs": [
        {
          "output_type": "stream",
          "name": "stdout",
          "text": [
            "False\n",
            "{'nome': 'Maria', 'idade': 25}\n"
          ]
        }
      ]
    },
    {
      "cell_type": "code",
      "source": [
        "#Importe a biblioteca NumPy\n",
        "import numpy as np\n",
        "#Crie uma array NumPy de numeros inteiros\n",
        "my_array = np.array([1, 2, 3, 4, 5])\n",
        "#Imprima o Array\n",
        "print(f\"Array original: {my_array}\")\n",
        "#Realize operações matematicas com o array\n",
        "squared_array = my_array ** 2 #Eleva todos os elementos do array ao quadrado\n",
        "sum_of_elements = np.sum(my_array) #Faz a soma de todos os elementos do array\n",
        "#Imprimindo os resultados\n",
        "print(f\"A array ao quadrado: {squared_array}\")\n",
        "print(f\"A soma de todos os elementos: {sum_of_elements}\")\n",
        "#Acessando elementos do array\n",
        "element_at_index_2 = my_array[2] #Acessa o elemento no indice 2\n",
        "print(f\"O elemento no indice 2: {element_at_index_2}\")"
      ],
      "metadata": {
        "colab": {
          "base_uri": "https://localhost:8080/"
        },
        "id": "GmNbCC869S9x",
        "outputId": "ae378a44-9065-4e2a-fbb5-13bbd03ba4fa"
      },
      "execution_count": null,
      "outputs": [
        {
          "output_type": "stream",
          "name": "stdout",
          "text": [
            "Array original: [1 2 3 4 5]\n",
            "A array ao quadrado: [ 1  4  9 16 25]\n",
            "A soma de todos os elementos: 15\n",
            "O elemento no indice 2: 3\n"
          ]
        }
      ]
    },
    {
      "cell_type": "code",
      "source": [
        "#Atividade`\n",
        "#Importando as bibliotecas necessarias\n",
        "import numpy as np\n",
        "#Dados dos participantes\n",
        "participantes = [\n",
        "    {\n",
        "        \"nome\": \"Luiz\",\n",
        "        \"localizacao\": \"EUA\",\n",
        "        \"afiliacao\": \"Universidade A\",\n",
        "        \"interesses\": [\"Física\", \"Astronomia\"]\n",
        "    },\n",
        "    {\n",
        "        \"nome\": \"Maria\",\n",
        "        \"localizacao\": \"Brasil\",\n",
        "        \"afiliacao\": \"Universidade B\",\n",
        "        \"interesses\": [\"Física\", \"Ciência da Computação\"]\n",
        "    },\n",
        "    {\n",
        "        \"nome\": \"Carlos\",\n",
        "        \"localizacao\": \"Canadá\",\n",
        "        \"afiliacao\": \"Universidade C\",\n",
        "        \"interesses\": [\"Engenharia\", \"Biologia\"]\n",
        "    },\n",
        "    {\n",
        "        \"nome\": \"Claudio\",\n",
        "        \"localizacao\": \"França\",\n",
        "        \"afiliacao\": \"Universidade A\",\n",
        "        \"interesses\": [\"Física\", \"Matemática\"]\n",
        "    }\n",
        "    #Adicione mais participantes caso seja necessario\n",
        "]\n",
        "#Usando sets para identificar diferentes regiões dos participantes\n",
        "regioes = set(participante[\"localizacao\"] for participante in participantes)\n",
        "#Usando um dicionario para categorizar afiliações\n",
        "afiliacoes = {}\n",
        "for participante in participantes:\n",
        "  afiliacao = participante[\"afiliacao\"]\n",
        "  if afiliacao not in afiliacoes:\n",
        "    afiliacoes[afiliacao] = []\n",
        "  afiliacoes[afiliacao].append(participante[\"nome\"])\n",
        "#Utilizando NumPy para analizar areas de interesse\n",
        "areas_de_interesse = np.array({interesse for participante in participantes for interesse in participante[\"interesses\"]})\n",
        "interesses_unicos, contagem = np.unique(areas_de_interesse, return_counts=True)\n",
        "area_mais_popular = interesses_unicos[np.argmax(contagem)]\n",
        "#Resultados\n",
        "print(\"Regiões dos participantes:\", regioes)\n",
        "print(\"Afiliações dos participantes:\")\n",
        "for afiliacao, nomes in afiliacoes.items():\n",
        "  print(f\"{afiliacao}: {', ' .join(nomes)}\")\n",
        "print(\"Area de interesse mais popular:\", area_mais_popular)"
      ],
      "metadata": {
        "id": "vHICTKw7APfa",
        "colab": {
          "base_uri": "https://localhost:8080/"
        },
        "outputId": "32ec441b-afad-4d84-ac0f-f5393d773fde"
      },
      "execution_count": 6,
      "outputs": [
        {
          "output_type": "stream",
          "name": "stdout",
          "text": [
            "Regiões dos participantes: {'França', 'Brasil', 'Canadá', 'EUA'}\n",
            "Afiliações dos participantes:\n",
            "Universidade A: Luiz, Claudio\n",
            "Universidade B: Maria\n",
            "Universidade C: Carlos\n",
            "Area de interesse mais popular: {'Física', 'Biologia', 'Matemática', 'Astronomia', 'Engenharia', 'Ciência da Computação'}\n"
          ]
        }
      ]
    }
  ]
}