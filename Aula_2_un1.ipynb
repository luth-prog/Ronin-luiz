{
  "nbformat": 4,
  "nbformat_minor": 0,
  "metadata": {
    "colab": {
      "provenance": [],
      "authorship_tag": "ABX9TyPsHc7lOEtxSskOOXFZQ5yk",
      "include_colab_link": true
    },
    "kernelspec": {
      "name": "python3",
      "display_name": "Python 3"
    },
    "language_info": {
      "name": "python"
    }
  },
  "cells": [
    {
      "cell_type": "markdown",
      "metadata": {
        "id": "view-in-github",
        "colab_type": "text"
      },
      "source": [
        "<a href=\"https://colab.research.google.com/github/luth-prog/Ronin-luiz/blob/main/Aula_2_un1.ipynb\" target=\"_parent\"><img src=\"https://colab.research.google.com/assets/colab-badge.svg\" alt=\"Open In Colab\"/></a>"
      ]
    },
    {
      "cell_type": "code",
      "execution_count": 1,
      "metadata": {
        "colab": {
          "base_uri": "https://localhost:8080/"
        },
        "id": "7ZTRXZG2nTrr",
        "outputId": "3e71a245-e4e3-433d-a565-40fd8e54a8ca"
      },
      "outputs": [
        {
          "output_type": "execute_result",
          "data": {
            "text/plain": [
              "True"
            ]
          },
          "metadata": {},
          "execution_count": 1
        }
      ],
      "source": [
        "1<2"
      ]
    },
    {
      "cell_type": "code",
      "source": [
        "1 == 2"
      ],
      "metadata": {
        "colab": {
          "base_uri": "https://localhost:8080/"
        },
        "id": "xuv5BVh6nYRm",
        "outputId": "e3a91d9a-a2ac-4f23-ec1d-64e3b61c8e53"
      },
      "execution_count": 2,
      "outputs": [
        {
          "output_type": "execute_result",
          "data": {
            "text/plain": [
              "False"
            ]
          },
          "metadata": {},
          "execution_count": 2
        }
      ]
    },
    {
      "cell_type": "code",
      "source": [
        "a = 'aluno'\n",
        "b = 'aluna'\n",
        "\n",
        "a is b"
      ],
      "metadata": {
        "colab": {
          "base_uri": "https://localhost:8080/"
        },
        "id": "P1ibwv1ynipl",
        "outputId": "2fed5fa0-ba47-4df2-86b3-18c5eb7f934a"
      },
      "execution_count": 3,
      "outputs": [
        {
          "output_type": "execute_result",
          "data": {
            "text/plain": [
              "False"
            ]
          },
          "metadata": {},
          "execution_count": 3
        }
      ]
    },
    {
      "cell_type": "code",
      "source": [],
      "metadata": {
        "id": "x1KsAtd8niPp"
      },
      "execution_count": 3,
      "outputs": []
    },
    {
      "cell_type": "code",
      "source": [
        "idade = int(input(\"Digite a sua idade: \"))\n",
        "\n",
        "if idade < 18:\n",
        "  print(\"Você é menor de idade.\")\n",
        "elif idade >= 19 and idade <= 60:\n",
        "  print(\"Você é um adulto.\")\n",
        "else:\n",
        "  print(\"Você é um idoso.\")"
      ],
      "metadata": {
        "colab": {
          "base_uri": "https://localhost:8080/"
        },
        "id": "3H0KwGjNneVT",
        "outputId": "d55ade9c-dbe5-49fb-9d54-91b74415c2cc"
      },
      "execution_count": 6,
      "outputs": [
        {
          "output_type": "stream",
          "name": "stdout",
          "text": [
            "Digite a sua idade: 12\n",
            "Você é menor de idade.\n"
          ]
        }
      ]
    },
    {
      "cell_type": "code",
      "source": [],
      "metadata": {
        "id": "t94Ktrz2oZLD"
      },
      "execution_count": null,
      "outputs": []
    },
    {
      "cell_type": "code",
      "source": [
        "# Entrada de dados\n",
        "\n",
        "ingressos_filme1 = 10\n",
        "ingressos_filme2 = 10\n",
        "ingressos_filme3 = 10\n",
        "\n",
        "idade = int(input(\"Digite a sua idade: \"))"
      ],
      "metadata": {
        "colab": {
          "base_uri": "https://localhost:8080/"
        },
        "id": "UlxLFkONneZ3",
        "outputId": "06086d5d-37e7-449f-bbf4-a3f98ac8836c"
      },
      "execution_count": 12,
      "outputs": [
        {
          "name": "stdout",
          "output_type": "stream",
          "text": [
            "Digite a sua idade: 13\n"
          ]
        }
      ]
    },
    {
      "cell_type": "code",
      "source": [
        "# Processamento onde o programa dispolibiliza o filme que certa idade pode assistir e permite que façam a compra de um ingresso.\n",
        "\n",
        "if idade < 12:\n",
        "  print(\"Você pode assistir o filme 1.\")\n",
        "  compra_ingresso = input(\"Deseja assistir o filme 1? S para sim e N para não.\")\n",
        "  if compra_ingresso == 'S':\n",
        "    if ingressos_filme1 > 0:\n",
        "      print(\"Você comprou um ingresso para o filme 1.\")\n",
        "      ingressos_filme1 -= 1\n",
        "    else:\n",
        "      print(\"Não há mais ingressos para o filme 1 disponiveis.\")\n",
        "elif idade >= 12 and idade < 18:\n",
        "  print(\"Você pode assistir aos filmes 1 e 2.\")\n",
        "  compra_ingresso = input(\"Deseja assistir o filme 1 ou o 2? \")\n",
        "  if compra_ingresso == '1':\n",
        "    if ingressos_filme1 > 0:\n",
        "      print(\"Você comprou um ingresso para o filme 1.\")\n",
        "      ingressos_filme1 -= 1\n",
        "    else:\n",
        "      print(\"Não há mais ingressos para o filme 1.\")\n",
        "  elif compra_ingresso == '2':\n",
        "    if ingressos_filme2 > 0:\n",
        "      print(\"Você comprou um ingresso para o filme 2.\")\n",
        "      ingressos_filme2 -= 1\n",
        "    else:\n",
        "      print(\"Não há mais ingressos para o filme 2.\")\n",
        "else:\n",
        "  print(\"Você pode assistir aos filmes 1, 2 e 3.\")\n",
        "  compra_ingresso = input(\"Deseja assistir ao filme 1, 2 ou 3? \")\n",
        "  if compra_ingresso == '1':\n",
        "    if ingressos_filme1 > 0:\n",
        "      print(\"Você comprou um ingresso para o filme 1.\")\n",
        "      ingressos_filme1 -= 1\n",
        "    else:\n",
        "      print(\"Não há mais ingressos para o filme 1.\")\n",
        "  elif compra_ingresso == '2':\n",
        "    if ingressos_filme2 > 0:\n",
        "      print(\"Você comprou um ingresso para o filme 2.\")\n",
        "      ingressos_filme2 -= 1\n",
        "    else:\n",
        "      print(\"Não há mais ingressos para o filme 2.\")\n",
        "  elif compra_ingresso == '3':\n",
        "    if ingressos_filme3 > 0:\n",
        "      print(\"Você comprou um ingresso para o filme 3.\")\n",
        "      ingressos_filme3 -= 1\n",
        "    else:\n",
        "      print(\"Não há mais ingressos para o filme 3.\")"
      ],
      "metadata": {
        "colab": {
          "base_uri": "https://localhost:8080/"
        },
        "id": "Al4iOi_MoYW5",
        "outputId": "3dab7d87-f252-4235-99d3-c60b6e4a5555"
      },
      "execution_count": 13,
      "outputs": [
        {
          "output_type": "stream",
          "name": "stdout",
          "text": [
            "Você pode assistir aos filmes 1 e 2.\n",
            "Deseja assistir o filme 1 ou o 2?2\n",
            "Você comprou um ingresso para o filme 2.\n"
          ]
        }
      ]
    }
  ]
}