{
  "nbformat": 4,
  "nbformat_minor": 0,
  "metadata": {
    "colab": {
      "provenance": [],
      "authorship_tag": "ABX9TyNbrprU7OHC9EsG1846IVSr",
      "include_colab_link": true
    },
    "kernelspec": {
      "name": "python3",
      "display_name": "Python 3"
    },
    "language_info": {
      "name": "python"
    }
  },
  "cells": [
    {
      "cell_type": "markdown",
      "metadata": {
        "id": "view-in-github",
        "colab_type": "text"
      },
      "source": [
        "<a href=\"https://colab.research.google.com/github/luth-prog/my_repository/blob/main/Aula01_un2.ipynb\" target=\"_parent\"><img src=\"https://colab.research.google.com/assets/colab-badge.svg\" alt=\"Open In Colab\"/></a>"
      ]
    },
    {
      "cell_type": "code",
      "execution_count": 16,
      "metadata": {
        "colab": {
          "base_uri": "https://localhost:8080/"
        },
        "id": "UY7e_eDhQ9TH",
        "outputId": "b7d17675-9634-473c-db53-d8283e1499b1"
      },
      "outputs": [
        {
          "output_type": "stream",
          "name": "stdout",
          "text": [
            "O tamanho do texto é 65\n",
            "Python in texto: True\n",
            "Quantidade de a em texto = 6\n",
            "As 8 primeiras letras são: Exploran\n"
          ]
        }
      ],
      "source": [
        "texto = \"Explorando a diversidade de linguagens de programação com Python!\"\n",
        "\n",
        "print(f\"O tamanho do texto é {len(texto)}\")\n",
        "print(f\"Python in texto: {'Python' in texto}\")\n",
        "print(f\"Quantidade de a em texto = {texto.count('a')}\")\n",
        "print(f\"As 8 primeiras letras são: {texto[:8]}\")"
      ]
    },
    {
      "cell_type": "code",
      "source": [
        "cores = ['azul', 'vermelho', 'amarelo', 'verde', 'laranja']\n",
        "\n",
        "for cor in cores:\n",
        "  print(f\"Posição = {cores.index(cor)}, cor = {cor}\")"
      ],
      "metadata": {
        "colab": {
          "base_uri": "https://localhost:8080/"
        },
        "id": "2B2e6LM4UNNs",
        "outputId": "070d762e-a6ec-4b5b-f40f-f5a5d0665d7c"
      },
      "execution_count": 17,
      "outputs": [
        {
          "output_type": "stream",
          "name": "stdout",
          "text": [
            "Posição = 0, cor = azul\n",
            "Posição = 1, cor = vermelho\n",
            "Posição = 2, cor = amarelo\n",
            "Posição = 3, cor = verde\n",
            "Posição = 4, cor = laranja\n"
          ]
        }
      ]
    },
    {
      "cell_type": "code",
      "source": [
        "linguagens = ['Python', 'Java', 'C', 'C#', 'C++', 'Swift', 'Go', 'Kotlin']\n",
        "print(f\"Antes da listcomp = {linguagens}\")\n",
        "linguagens = [item.lower() for item in linguagens]\n",
        "print(f\"\\nDepois da listcomp = {linguagens}\")"
      ],
      "metadata": {
        "colab": {
          "base_uri": "https://localhost:8080/"
        },
        "id": "C4rmRBFnXo_4",
        "outputId": "716af2b0-5fa9-4aa5-fc67-589ece868b58"
      },
      "execution_count": 18,
      "outputs": [
        {
          "output_type": "stream",
          "name": "stdout",
          "text": [
            "Antes da listcomp = ['Python', 'Java', 'C', 'C#', 'C++', 'Swift', 'Go', 'Kotlin']\n",
            "\n",
            "Depois da listcomp = ['python', 'java', 'c', 'c#', 'c++', 'swift', 'go', 'kotlin']\n"
          ]
        }
      ]
    },
    {
      "cell_type": "code",
      "source": [
        "#função map\n",
        "#aplica uma função em toda a sequencia\n",
        "#map(função, sequencia)\n",
        "\n",
        "precos_em_dolares = [100, 50, 75, 87]\n",
        "taxa_de_cambio = 5.25\n",
        "precos_em_reais = list(map(lambda x: x * taxa_de_cambio, precos_em_dolares))\n",
        "print(precos_em_reais)"
      ],
      "metadata": {
        "colab": {
          "base_uri": "https://localhost:8080/"
        },
        "id": "2BPx18oaYCTj",
        "outputId": "98f0ad0a-4004-4387-c9d6-cb6544120630"
      },
      "execution_count": 19,
      "outputs": [
        {
          "output_type": "stream",
          "name": "stdout",
          "text": [
            "[525.0, 262.5, 393.75, 456.75]\n"
          ]
        }
      ]
    },
    {
      "cell_type": "code",
      "source": [
        "#função filter\n",
        "#filtra os elementos de uma sequencia com base em uma função de teste (retorna true ou false)\n",
        "#filter(funcao_teste, sequencia)\n",
        "\n",
        "numeros = [1, 2, 3, 4, 5, 6, 7, 8, 9, 10, 11, 12]\n",
        "numeros_pares = list(filter(lambda x: x % 2 == 0, numeros))\n",
        "print(numeros_pares)"
      ],
      "metadata": {
        "colab": {
          "base_uri": "https://localhost:8080/"
        },
        "id": "AmU3HTcDZcpO",
        "outputId": "1845991d-164a-43f1-93a2-0fe31faaa6da"
      },
      "execution_count": 20,
      "outputs": [
        {
          "output_type": "stream",
          "name": "stdout",
          "text": [
            "[2, 4, 6, 8, 10, 12]\n"
          ]
        }
      ]
    },
    {
      "cell_type": "code",
      "source": [
        "# A ORDEM IMPORTA!\n",
        "# EXEMPLO DE MAIS TUPLAS E UTILIDADE\n",
        "vogais = ('a', 'e', 'i', 'o', 'u')\n",
        "print(f\"TIpo do objeto vogais = {type(vogais)}\")\n",
        "for p, x in enumerate(vogais):\n",
        "  print(f\"Posição = {p}, valor = {x}\")"
      ],
      "metadata": {
        "colab": {
          "base_uri": "https://localhost:8080/"
        },
        "id": "zhKm2aJ9aWLs",
        "outputId": "819f35ed-77cf-4cd0-ff03-0d69009863ea"
      },
      "execution_count": 21,
      "outputs": [
        {
          "output_type": "stream",
          "name": "stdout",
          "text": [
            "TIpo do objeto vogais = <class 'tuple'>\n",
            "Posição = 0, valor = a\n",
            "Posição = 1, valor = e\n",
            "Posição = 2, valor = i\n",
            "Posição = 3, valor = o\n",
            "Posição = 4, valor = u\n"
          ]
        }
      ]
    },
    {
      "cell_type": "code",
      "source": [
        "#Tupla de convidados\n",
        "convidados = ('Alice', 'Bob', 'Luiz', 'Ruth')\n",
        "#Lista de confirmações\n",
        "confirmados = ['Luiz', 'Ruth']\n",
        "#Identificar quem ainda não confirmou\n",
        "nao_comfirmados = [convidado for convidado in convidados if convidado not in confirmados]\n",
        "#Exibir os convidados que ainda não confirmaram\n",
        "print(\"Os convidados que ainda não conrfirmaram são:\")\n",
        "for pessoa in nao_comfirmados:\n",
        "  print(pessoa)\n",
        "#Enviar lembretes aos não confirmados\n",
        "print(\"Enviando lembretes para os convidados que ainda não confirmaram.\")"
      ],
      "metadata": {
        "colab": {
          "base_uri": "https://localhost:8080/"
        },
        "id": "gpCMlf8md6Ws",
        "outputId": "b7f64cd8-ebf4-42d4-d19e-c70371f87c19"
      },
      "execution_count": 22,
      "outputs": [
        {
          "output_type": "stream",
          "name": "stdout",
          "text": [
            "Os convidados que ainda não conrfirmaram são:\n",
            "Alice\n",
            "Bob\n",
            "Enviando lembretes para os convidados que ainda não confirmaram.\n"
          ]
        }
      ]
    }
  ]
}