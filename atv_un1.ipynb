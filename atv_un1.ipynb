{
  "nbformat": 4,
  "nbformat_minor": 0,
  "metadata": {
    "colab": {
      "provenance": [],
      "authorship_tag": "ABX9TyOAfO67Mkftde+x2Vy0qsIh",
      "include_colab_link": true
    },
    "kernelspec": {
      "name": "python3",
      "display_name": "Python 3"
    },
    "language_info": {
      "name": "python"
    }
  },
  "cells": [
    {
      "cell_type": "markdown",
      "metadata": {
        "id": "view-in-github",
        "colab_type": "text"
      },
      "source": [
        "<a href=\"https://colab.research.google.com/github/luth-prog/my_repository/blob/main/atv_un1.ipynb\" target=\"_parent\"><img src=\"https://colab.research.google.com/assets/colab-badge.svg\" alt=\"Open In Colab\"/></a>"
      ]
    },
    {
      "cell_type": "code",
      "execution_count": 19,
      "metadata": {
        "colab": {
          "base_uri": "https://localhost:8080/"
        },
        "id": "lyzWr_b7160j",
        "outputId": "a70253bc-347d-483f-fd05-b1d8f580b890"
      },
      "outputs": [
        {
          "output_type": "stream",
          "name": "stdout",
          "text": [
            "Digite o nome do aluno: Luiz \n",
            "Vamos começar? (s/n)s\n",
            "Digite uma nota: 10\n",
            "Vai adicionar mais notas? (s/n)s\n",
            "Digite uma nota: 7\n",
            "Vai adicionar mais notas? (s/n)s\n",
            "Digite uma nota: 8\n",
            "Vai adicionar mais notas? (s/n)s\n",
            "Digite uma nota: 5\n",
            "Vai adicionar mais notas? (s/n)n\n",
            "O aluno Luiz  teve as notas [10.0, 7.0, 8.0, 5.0].\n",
            "O aluno Luiz  teve a media de 7.5 e sua situação é Aprovado.\n",
            "Obrigado por usar nosso programa.\n"
          ]
        }
      ],
      "source": [
        "#Decretando variaveis\n",
        "\n",
        "nome = input(\"Digite o nome do aluno: \")\n",
        "cmc = input(\"Vamos começar? (s/n)\")\n",
        "notas = []\n",
        "\n",
        "#Definindo funções\n",
        "\n",
        "def media(notas):\n",
        "  soma = sum(notas)\n",
        "  media = soma / len(notas)\n",
        "  return media\n",
        "\n",
        "def situacao(media):\n",
        "  if media >= 7:\n",
        "    return \"Aprovado\"\n",
        "  elif media >= 5:\n",
        "    return \"Recuperação\"\n",
        "  else:\n",
        "    return \"Reprovado\"\n",
        "\n",
        "#Estrutura de repetição\n",
        "\n",
        "while cmc == 's':\n",
        "  nota = float(input(\"Digite uma nota: \"))\n",
        "  notas.append(nota)\n",
        "  cmc = input(\"Vai adicionar mais notas? (s/n)\")\n",
        "\n",
        "  #Condição caso não seja mais necessario adicionar notas retornando para o usuario as informações do aluno\n",
        "\n",
        "  if cmc == 'n':\n",
        "    media_final = media(notas)\n",
        "    situacao_final = situacao(media_final)\n",
        "    print(f\"O aluno {nome} teve as notas {notas}.\")\n",
        "    print(f\"O aluno {nome} teve a media de {media_final} e sua situação é {situacao_final}.\")\n",
        "\n",
        "#Condição para caso a resposta no inicio seja n\n",
        "\n",
        "if cmc == 'n':\n",
        "  print(\"Obrigado por usar nosso programa.\")\n",
        "\n",
        ""
      ]
    }
  ]
}