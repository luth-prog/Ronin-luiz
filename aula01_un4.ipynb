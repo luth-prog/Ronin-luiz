{
  "nbformat": 4,
  "nbformat_minor": 0,
  "metadata": {
    "colab": {
      "provenance": [],
      "authorship_tag": "ABX9TyPLhLCRr72NrmYZYo/fqQHe",
      "include_colab_link": true
    },
    "kernelspec": {
      "name": "python3",
      "display_name": "Python 3"
    },
    "language_info": {
      "name": "python"
    }
  },
  "cells": [
    {
      "cell_type": "markdown",
      "metadata": {
        "id": "view-in-github",
        "colab_type": "text"
      },
      "source": [
        "<a href=\"https://colab.research.google.com/github/luth-prog/my_repository/blob/main/aula01_un4.ipynb\" target=\"_parent\"><img src=\"https://colab.research.google.com/assets/colab-badge.svg\" alt=\"Open In Colab\"/></a>"
      ]
    },
    {
      "cell_type": "code",
      "execution_count": null,
      "metadata": {
        "id": "QnaRb_wMdUWp"
      },
      "outputs": [],
      "source": [
        "# Criando uma pagina HTML usando python\n",
        "\n",
        "html_code = \"\"\"\n",
        "<!DOCTYPE html>\n",
        "<html>\n",
        "<head>\n",
        "  <title>Exemplo de Front-End com Python</title>\n",
        "</head>\n",
        "<body>\n",
        "  <h1>Olá Mundo!</h1>\n",
        "  <p>Está é uma página Web criada usando Python no Google Colab.</p>\n",
        "</body>\n",
        "</html>\n",
        "\"\"\""
      ]
    },
    {
      "cell_type": "code",
      "source": [
        "from IPython.display import HTML\n",
        "HTML(html_code)"
      ],
      "metadata": {
        "colab": {
          "base_uri": "https://localhost:8080/",
          "height": 100
        },
        "id": "6Xrp3b4Bu6NW",
        "outputId": "3cb9116c-5426-4b51-b5be-50d0f6f0eba8"
      },
      "execution_count": null,
      "outputs": [
        {
          "output_type": "execute_result",
          "data": {
            "text/plain": [
              "<IPython.core.display.HTML object>"
            ],
            "text/html": [
              "\n",
              "<!DOCTYPE html>\n",
              "<html>\n",
              "<head>\n",
              "  <title>Exemplo de Front-End com Python</title>\n",
              "</head>\n",
              "<body>\n",
              "  <h1>Olá Mundo!</h1>\n",
              "  <p>Está é uma página Web criada usando Python no Google Colab.</p>\n",
              "</body>\n",
              "</html>\n"
            ]
          },
          "metadata": {},
          "execution_count": 2
        }
      ]
    },
    {
      "cell_type": "code",
      "source": [
        "from IPython.display import HTML\n",
        "html_code = \"\"\"\n",
        "<!DOCTYPE html>\n",
        "<html leng=\"en\">\n",
        "<head>\n",
        "    <!-- Definindo a visualização e a view port para dispositivos moveis -->\n",
        "    <meta charset=\"UTF-8\">\n",
        "    <meta name=\"viewport\" content=\"width-device-width, initial-scale=1.0\">\n",
        "    <title>Meu Perfil</title>\n",
        "</head>\n",
        "<body style=\"font-family: 'Arial', sans-serif; backgroud-color: #f8f8f8; margin: 0; padding: 0;\">\n",
        "\n",
        "    <!-- Cabeçalho da página -->\n",
        "    <header style=\"text-align: center; background-color: #3498db; color: #fff; padding: 20px;\">\n",
        "        <!-- Título Principal -->\n",
        "        <h1 style=\"margin: 0;\">Luiz Paulo de Almeida Fraga</h1>\n",
        "        <!-- Descrição -->\n",
        "        <p style=\"margin: 5px 0;\">Estudante De Engenharia de Software</p>\n",
        "    </header>\n",
        "\n",
        "    <!-- Seção Habilidades -->\n",
        "    <section style=\"margin: 20px; text-align: center;\">\n",
        "        <!-- Titulo da seção -->\n",
        "        <h2>Habilidades</h2>\n",
        "        <!-- Lista de Habilidades -->\n",
        "        <ul style=\"list-style: none; padding: 0;\">\n",
        "            <li>Linguagens: Python, HTML, CSS, JavaScript</li>\n",
        "            <li>Ferramentas: VS Code</li>\n",
        "        </ul>\n",
        "    </section>\n",
        "\n",
        "    <!-- Seção Habilidades -->\n",
        "    <section style=\"margin: 20px; text-align: center;\">\n",
        "        <!-- Titulo da seção -->\n",
        "        <h2>Habilidades</h2>\n",
        "        <!-- Lista de Habilidades -->\n",
        "        <ul style=\"list-style: none; padding: 0;\">\n",
        "            <li>Linguagens: Python, HTML, CSS, JavaScript</li>\n",
        "            <li>Ferramentas: VS Code</li>\n",
        "        </ul>\n",
        "    </section>\n",
        "\n",
        "    <!-- Seção de Projetos -->\n",
        "    <section style=\"margin: 20px; text-align: center;\">\n",
        "        <!-- Titulo do Projeto -->\n",
        "        <h2>Projeto Recente</h2>\n",
        "        <!-- Descrição do Projeto -->\n",
        "        <p>Trabalhando em um site pessoal para mostrar meu portfólio</p>\n",
        "    </section>\n",
        "\n",
        "    <!-- Rodapé da página -->\n",
        "    <footer style=\"text-align: center; margin-top: 20px;\">\n",
        "        <!-- Link para o Linkedin -->\n",
        "        <a href=\"https://www.linkedin.com/in/luiz-paulo-almeida-7b0b36234?utm_source=share_via&utm_content=profile&utm_medium=member_android\" target=\"_blank\" style=\"margin: 0px; color: #3498db; text-decoration: none;\">Linkedin</a>\n",
        "    </footer>\n",
        "</body>\n",
        "</html>\n",
        "\n",
        "\n",
        "\"\"\"\n",
        "\n",
        "# Exibindo a pagina HTML\n",
        "HTML(html_code)"
      ],
      "metadata": {
        "id": "07yUDsLm7o1i",
        "colab": {
          "base_uri": "https://localhost:8080/",
          "height": 313
        },
        "outputId": "ce01c52f-4f94-4ef9-8be7-87e0ab075057"
      },
      "execution_count": 3,
      "outputs": [
        {
          "output_type": "execute_result",
          "data": {
            "text/plain": [
              "<IPython.core.display.HTML object>"
            ],
            "text/html": [
              "\n",
              "<!DOCTYPE html>\n",
              "<html leng=\"en\">\n",
              "<head>\n",
              "    <!-- Definindo a visualização e a view port para dispositivos moveis -->\n",
              "    <meta charset=\"UTF-8\">\n",
              "    <meta name=\"viewport\" content=\"width-device-width, initial-scale=1.0\">\n",
              "    <title>Meu Perfil</title>\n",
              "</head>\n",
              "<body style=\"font-family: 'Arial', sans-serif; backgroud-color: #f8f8f8; margin: 0; padding: 0;\">\n",
              "\n",
              "    <!-- Cabeçalho da página -->\n",
              "    <header style=\"text-align: center; background-color: #3498db; color: #fff; padding: 20px;\">\n",
              "        <!-- Título Principal -->\n",
              "        <h1 style=\"margin: 0;\">Luiz Paulo de Almeida Fraga</h1>\n",
              "        <!-- Descrição -->\n",
              "        <p style=\"margin: 5px 0;\">Estudante De Engenharia de Software</p>\n",
              "    </header>\n",
              "\n",
              "    <!-- Seção de Informações Pessoais -->\n",
              "    <section style=\"margin: 20px; text-align: center;\">\n",
              "        <!-- Titulo da seção -->\n",
              "        <h2>Habilidades</h2>\n",
              "        <!-- Lista de Habilidades -->\n",
              "        <ul style=\"list-style: none; padding: 0;\">\n",
              "            <li>Linguagens: Python, HTML, CSS, JavaScript</li>\n",
              "            <li>Ferramentas: VS Code</li>\n",
              "        </ul>\n",
              "    </section>\n",
              "\n",
              "    <!-- Seção de Projetos -->\n",
              "    <section style=\"margin: 20px; text-align: center;\">\n",
              "        <!-- Titulo do Projeto -->\n",
              "        <h2>Projeto Recente</h2>\n",
              "        <!-- Descrição do Projeto -->\n",
              "        <p>Trabalhando em um site pessoal para mostrar meu portfólio</p>\n",
              "    </section>\n",
              "\n",
              "    <!-- Rodapé da página -->\n",
              "    <footer style=\"text-align: center; margin-top: 20px;\">\n",
              "        <!-- Link para o Linkedin -->\n",
              "        <a href=\"https://www.linkedin.com/in/luiz-paulo-almeida-7b0b36234?utm_source=share_via&utm_content=profile&utm_medium=member_android\" target=\"_blank\" style=\"margin: 0px; color: #3498db; text-decoration: none;\">Linkedin</a>\n",
              "    </footer>\n",
              "</body>\n",
              "</html>\n",
              "            \n",
              "\n"
            ]
          },
          "metadata": {},
          "execution_count": 3
        }
      ]
    }
  ]
}