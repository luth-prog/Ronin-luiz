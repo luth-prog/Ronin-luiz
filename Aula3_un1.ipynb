{
  "nbformat": 4,
  "nbformat_minor": 0,
  "metadata": {
    "colab": {
      "provenance": [],
      "authorship_tag": "ABX9TyPl/58tTX4VMCq0QWAHbpLb",
      "include_colab_link": true
    },
    "kernelspec": {
      "name": "python3",
      "display_name": "Python 3"
    },
    "language_info": {
      "name": "python"
    }
  },
  "cells": [
    {
      "cell_type": "markdown",
      "metadata": {
        "id": "view-in-github",
        "colab_type": "text"
      },
      "source": [
        "<a href=\"https://colab.research.google.com/github/luth-prog/Ronin-luiz/blob/main/Aula3_un1.ipynb\" target=\"_parent\"><img src=\"https://colab.research.google.com/assets/colab-badge.svg\" alt=\"Open In Colab\"/></a>"
      ]
    },
    {
      "cell_type": "code",
      "execution_count": 13,
      "metadata": {
        "id": "xz_4Qq7l8K1S",
        "colab": {
          "base_uri": "https://localhost:8080/"
        },
        "outputId": "9d5e17a4-48be-4419-f577-1b6beebae93f"
      },
      "outputs": [
        {
          "output_type": "stream",
          "name": "stdout",
          "text": [
            "1\n",
            "2\n",
            "3\n",
            "4\n",
            "5\n"
          ]
        }
      ],
      "source": [
        "numeros = [1, 2, 3, 4, 5]\n",
        "\n",
        "for num in numeros:\n",
        "  print(num)"
      ]
    },
    {
      "cell_type": "code",
      "source": [
        "numero = int(input(\"DIgite um numero ou 0 para sair: \"))\n",
        "\n",
        "while numero != 0:\n",
        "  if numero % 2 == 0:\n",
        "    print(\"O numero é par.\")\n",
        "  else:\n",
        "    print(\"O numero é impar.\")\n",
        "  numero = int(input(\"DIgite um numero ou 0 para sair: \"))"
      ],
      "metadata": {
        "id": "CGxc6hL_G9hX"
      },
      "execution_count": null,
      "outputs": []
    },
    {
      "cell_type": "code",
      "source": [
        "for x in range(5): #lembrando que o range sempre começa em 0\n",
        "  print(x)"
      ],
      "metadata": {
        "colab": {
          "base_uri": "https://localhost:8080/"
        },
        "id": "8FThFd0MLOY3",
        "outputId": "bfb7fd35-89b8-46ca-bf75-a58ad22b34fe"
      },
      "execution_count": 10,
      "outputs": [
        {
          "output_type": "stream",
          "name": "stdout",
          "text": [
            "0\n",
            "1\n",
            "2\n",
            "3\n",
            "4\n"
          ]
        }
      ]
    },
    {
      "cell_type": "code",
      "source": [
        "for y in range(2, 7): #aqui definimos onde o range começa que é em 2 e onde ele teminará que será em 7\n",
        "  print(y)"
      ],
      "metadata": {
        "colab": {
          "base_uri": "https://localhost:8080/"
        },
        "id": "8ZhIGWObLrgH",
        "outputId": "f4ad23b8-6137-4cf8-9851-773e9bfb2015"
      },
      "execution_count": 11,
      "outputs": [
        {
          "output_type": "stream",
          "name": "stdout",
          "text": [
            "2\n",
            "3\n",
            "4\n",
            "5\n",
            "6\n"
          ]
        }
      ]
    },
    {
      "cell_type": "code",
      "source": [
        "for z in range(1, 11, 2): #nesse caso definimos o inicio o final e o incremento de 2, onde teremos a demonstraçao dos numeros pulando de 2 em 2.\n",
        "  print(z)"
      ],
      "metadata": {
        "colab": {
          "base_uri": "https://localhost:8080/"
        },
        "id": "PtIZimNqLwlH",
        "outputId": "2675e550-5faf-41ef-cebe-c84a9505f729"
      },
      "execution_count": 14,
      "outputs": [
        {
          "output_type": "stream",
          "name": "stdout",
          "text": [
            "2\n",
            "4\n",
            "6\n",
            "8\n",
            "10\n"
          ]
        }
      ]
    },
    {
      "cell_type": "code",
      "source": [
        "# demontração de break\n",
        "\n",
        "for numero in range(1,11):\n",
        "  if numero % 2 == 0:\n",
        "    print(\"O primeiro numero par encontrado é: \", numero)\n",
        "    break\n",
        "# neste caso assim que o programa identificar o primeiro número par ele mostra na tela para o usuario e finaliza o o programa"
      ],
      "metadata": {
        "colab": {
          "base_uri": "https://localhost:8080/"
        },
        "id": "PPABJ5wBOYUc",
        "outputId": "da03e80a-8cfd-4f9e-dd21-57acca95fd8b"
      },
      "execution_count": 15,
      "outputs": [
        {
          "output_type": "stream",
          "name": "stdout",
          "text": [
            "O primeiro numero par encontrado é:  2\n"
          ]
        }
      ]
    },
    {
      "cell_type": "code",
      "source": [
        "# demonstraçao de continue\n",
        "\n",
        "for numero in range(1, 11):\n",
        "  if numero == 5:\n",
        "    continue\n",
        "  print(numero)\n",
        "#nesse caso o programa imprime os numeros normalmente até alcançar a condição que é se o numero for igual a 5, quando completa a condição o programa ignora o numero 5 nao imprimindo ele e volta a imprimir a partir do 6"
      ],
      "metadata": {
        "colab": {
          "base_uri": "https://localhost:8080/"
        },
        "id": "gZS2tc1dQJni",
        "outputId": "fcc5ef0a-cd84-4d6a-c712-cc025d5bd3b5"
      },
      "execution_count": 17,
      "outputs": [
        {
          "output_type": "stream",
          "name": "stdout",
          "text": [
            "1\n",
            "2\n",
            "3\n",
            "4\n",
            "6\n",
            "7\n",
            "8\n",
            "9\n",
            "10\n"
          ]
        }
      ]
    },
    {
      "cell_type": "code",
      "source": [
        "# atividade\n",
        "\n",
        "filmes = [\"Filme 1\", \"Filme 2\", \"Filme 3\", \"Filme 4\", \"Filme 5\"]\n",
        "\n",
        "#Mensagem de boas vindas\n",
        "\n",
        "print(\"Olá Sejá bem vindo a classificação de filmes.\")\n",
        "print(\"Você tem 5 filmes para classificar.\")\n",
        "print(\"Você pode digitar '0' a qualquer momento para encerrar em qualquer filme que estiver.\")\n",
        "\n",
        "#Loop para iterar sobre cada filme\n",
        "for filme in filmes:\n",
        "  #Solicitação de classificação ao usuario\n",
        "  classificacao = input(f\"Como você classificaria o '{filme}' de 1 a 5? (0 para parar)\")\n",
        "\n",
        "  #Verificação se o usuario deseja parar\n",
        "  if classificacao == '0':\n",
        "    print(\"Obrigado por ficar até aqui\")\n",
        "    break #Encerra o loop principal\n",
        "\n",
        "  #converção de classificação para inteiro\n",
        "  classificacao = int(classificacao)\n",
        "\n",
        "  #Verifica se a classificaçao esta dentro do intervalo valido\n",
        "  if classificacao < 1 or classificacao > 5:\n",
        "    print(\"Por favor digite uma classificação valida de 1 a 5.\")\n",
        "  else:\n",
        "    print(f\"Classificação do {filme} de {classificacao} estrelas é valida.\\n\")\n",
        "\n",
        "#Mensagem de agradecimento\n",
        "print(\"Obrigado por classificar os filmes.\")\n"
      ],
      "metadata": {
        "colab": {
          "base_uri": "https://localhost:8080/"
        },
        "id": "7v-UISkfYH4a",
        "outputId": "01f72482-cf5b-4f03-a74e-83483987011c"
      },
      "execution_count": 27,
      "outputs": [
        {
          "output_type": "stream",
          "name": "stdout",
          "text": [
            "Olá Sejá bem vindo a classificação de filmes.\n",
            "Você tem 5 filmes para classificar.\n",
            "Você pode digitar 's' a qualquer momento para encerrar em qualquer filme que estiver.\n",
            "Como você classificaria o 'Filme 1' de 1 a 5? (s para parar)0\n",
            "Por favor digite uma classificação valida de 1 a 5.\n",
            "Como você classificaria o 'Filme 2' de 1 a 5? (s para parar)1\n",
            "Classificação do Filme 2 de 1 estrelas é valida.\n",
            "\n",
            "Como você classificaria o 'Filme 3' de 1 a 5? (s para parar)4\n",
            "Classificação do Filme 3 de 4 estrelas é valida.\n",
            "\n",
            "Como você classificaria o 'Filme 4' de 1 a 5? (s para parar)5\n",
            "Classificação do Filme 4 de 5 estrelas é valida.\n",
            "\n",
            "Como você classificaria o 'Filme 5' de 1 a 5? (s para parar)6\n",
            "Por favor digite uma classificação valida de 1 a 5.\n",
            "Obrigado por classificar os filmes.\n"
          ]
        }
      ]
    }
  ]
}