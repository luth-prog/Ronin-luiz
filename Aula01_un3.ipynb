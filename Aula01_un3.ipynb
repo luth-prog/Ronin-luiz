{
  "nbformat": 4,
  "nbformat_minor": 0,
  "metadata": {
    "colab": {
      "provenance": [],
      "authorship_tag": "ABX9TyN0rxWC8AINEXmcdOdu4brq",
      "include_colab_link": true
    },
    "kernelspec": {
      "name": "python3",
      "display_name": "Python 3"
    },
    "language_info": {
      "name": "python"
    }
  },
  "cells": [
    {
      "cell_type": "markdown",
      "metadata": {
        "id": "view-in-github",
        "colab_type": "text"
      },
      "source": [
        "<a href=\"https://colab.research.google.com/github/luth-prog/my_repository/blob/main/Aula01_un3.ipynb\" target=\"_parent\"><img src=\"https://colab.research.google.com/assets/colab-badge.svg\" alt=\"Open In Colab\"/></a>"
      ]
    },
    {
      "cell_type": "code",
      "execution_count": 2,
      "metadata": {
        "id": "KlRBvc7u3_nm"
      },
      "outputs": [],
      "source": [
        "import sqlite3\n",
        "\n",
        "# 1. Conectar ao banco de dados (ou criar um noove).\n",
        "# usando a função connect do modulo sqlite3 para se conectar a um banco de dados sqlite\n",
        "# chamado \"exemplo.db\". Se o banco de dados não existir, ele será criado automaticamente\n",
        "conn = sqlite3.connect('exemplo.db')\n",
        "\n",
        "\n",
        "# 2. Cria um objeto cursor\n",
        "# O cursor é usado para executar comandos SQL no banco de dados\n",
        "# Ele atua como uma espécie de ponteiro que percorre os resultados de consultas.\n",
        "cursor = conn.cursor()\n",
        "\n",
        "\n",
        "# 3. Definir o comando SQL para criar a tabela.\n",
        "#define uma string create_table que contem um comando SQL para criar uma tabela chamada \"Produtos\"\n",
        "# Está tabela terá quatro culunas: id (chave primária), nome (texto), preco (numero real) e estoque (numero inteiro).\n",
        "# O IF NOT EXISTS garante que a tabela só será criada se ainda não existir\n",
        "create_table = \"\"\"\n",
        "    CREATE TABLE IF NOT EXISTS Produtos (\n",
        "      id INTEGER PRIMARY KEY,\n",
        "      nome TEXT NOT NULL,\n",
        "      preco REAL NOT NULL,\n",
        "      estoque INTEGER\n",
        "    );\n",
        "\"\"\"\n",
        "\n",
        "\n",
        "# Usa o método execute do objeto cursor para executar o comando SQL definido anteriormente e criar a tabela no banco de dados.\n",
        "# 4. Executar o comando SQL para criar a tabela.\n",
        "cursor.execute(create_table)\n",
        "\n",
        "\n",
        "# 5. Confirmar as alterações (commit)\n",
        "# Após a execução bem-sucedida do comando SQL, usa o método commit no objeto de conexão (conn) para confirmar as alterações no banco de dados.\n",
        "# Isso garante que as alterações sejam efetivamente aplicadas.\n",
        "conn.commit()\n",
        "\n",
        "\n",
        "# 6. Fechar a conexão com o banco de dados\n",
        "# Finalmente, você usa o metodo close no objeto de conexão para encerrar a conexão com o banco de dados.\n",
        "# É uma pratica recomendada fechar a conexão após a conclusão das operações, para liberar recursos e evitar possiveis problemas de concorrência.\n",
        "conn.close()\n"
      ]
    },
    {
      "cell_type": "code",
      "source": [
        "# Adicionando novo produto\n",
        "import sqlite3\n",
        "\n",
        "# Conectando com o banco de dados\n",
        "conn = sqlite3.connect('exemplo.db')\n",
        "cursor = conn.cursor()\n",
        "\n",
        "# Dados do novo produto\n",
        "novo_produto = ('Tenis', 199.90, 40)\n",
        "\n",
        "# Comando SQL para inserir o novo produto na tabela\n",
        "inserir_produto = \"INSERT INTO Produtos (nome, preco, estoque) VALUES (?, ?, ?)\"\n",
        "\n",
        "# Executando o comando SQL para inserção\n",
        "cursor.execute(inserir_produto, novo_produto)\n",
        "\n",
        "# Confirmando as alterações\n",
        "conn.commit()\n",
        "\n",
        "# Fechando a conexão\n",
        "conn.close()\n"
      ],
      "metadata": {
        "id": "Z3hunUxllQQe"
      },
      "execution_count": 3,
      "outputs": []
    },
    {
      "cell_type": "code",
      "source": [
        "# Visualizar produto\n",
        "# Conectando ao banco de dados\n",
        "conn = sqlite3.connect('exemplo.db')\n",
        "cursor = conn.cursor()\n",
        "\n",
        "# Comando SQL para selecionar todos os produtos\n",
        "selecionar_produtos = \"SELECT * FROM Produtos\"\n",
        "\n",
        "# Executando o comando SQL\n",
        "cursor.execute(selecionar_produtos)\n",
        "\n",
        "# Obtendo todos os registros e exibindo-os\n",
        "produtos = cursor.fetchall()\n",
        "for produto in produtos:\n",
        "  print(produto)\n"
      ],
      "metadata": {
        "colab": {
          "base_uri": "https://localhost:8080/"
        },
        "id": "ZjWUHfhFmgq-",
        "outputId": "7f1a23c1-3b85-46f0-8d3b-2121e3dd1a3b"
      },
      "execution_count": 4,
      "outputs": [
        {
          "output_type": "stream",
          "name": "stdout",
          "text": [
            "(1, 'Tenis', 199.9, 40)\n"
          ]
        }
      ]
    },
    {
      "cell_type": "code",
      "source": [
        "# Atualizar o produto\n",
        "import sqlite3\n",
        "\n",
        "# Conectando com o banco de dados\n",
        "conn = sqlite3.connect('exemplo.db')\n",
        "cursor = conn.cursor()\n",
        "\n",
        "# Novo preço e ID do produto a ser atualizado\n",
        "novo_preco = 23.99\n",
        "produto_id = 6 # Suponhamos que queremos atualizar o produto com ID 6.\n",
        "\n",
        "# Comando SQL para atualizar os produtos\n",
        "atualizar_preco = \"UPDATE Produtos SET preco = ? WHERE id = ?\"\n",
        "\n",
        "# Executar o comando SQL de atualização\n",
        "cursor.execute(atualizar_preco, (novo_preco, produto_id))\n",
        "\n",
        "# Confirmando alterações\n",
        "conn.commit()\n",
        "\n",
        "# Finalizando a conexão\n",
        "conn.close()\n"
      ],
      "metadata": {
        "id": "YTMuKr4koGXD"
      },
      "execution_count": null,
      "outputs": []
    },
    {
      "cell_type": "code",
      "source": [
        "# Excluindo um produto\n",
        "\n",
        "import sqlite3\n",
        "\n",
        "# Conectando ao banco de dados.\n",
        "conn = sqlite3.connect('exemplo.db')\n",
        "cursor = conn.cursor()\n",
        "\n",
        "# Selecionando o pruduto a ser excluido\n",
        "produto_id = 7 # Suponhamos que queremos excluir o produto de id 7.\n",
        "\n",
        "# Commando SQL para excluir o produto\n",
        "excluir_produto = \"DELETE FROM Produtos WHERE id = ?\"\n",
        "\n",
        "# Executar o comando SQL\n",
        "cursor.execute(excluir_produto, (produto_id,)) # Added a trailing comma here\n",
        "\n",
        "# Confirmando alterações\n",
        "conn.commit()\n",
        "\n",
        "# Encerrando conexão\n",
        "conn.close()"
      ],
      "metadata": {
        "id": "IzsA363dpnrb"
      },
      "execution_count": null,
      "outputs": []
    },
    {
      "cell_type": "code",
      "source": [
        "# Importando a biblioteca\n",
        "import sqlite3\n",
        "\n",
        "# Conectando o banco de dados\n",
        "conn = sqlite3.connect('contatos.db')\n",
        "cursor = conn.cursor()\n",
        "\n",
        "#Criando o banco de dados\n",
        "conn.execute(\"\"\"\n",
        "  CREATE TABLE IF NOT EXISTS contatos (\n",
        "    id INTEGER NOT NULL PRIMARY KEY,\n",
        "    nome TEXT NOT NULL,\n",
        "    telefone TEXT NOT NULL,\n",
        "    email TEXT NOT NULL\n",
        "  );\n",
        "\"\"\")\n",
        "\n",
        "conn.commit()\n",
        "\n",
        "novos_contatos = [\n",
        "    ('João', '11979590643', 'joao@gmail.com'),\n",
        "    ('Luiz', '11979590648', 'luiz@gmail.com'),\n",
        "    ('Maria', '11959580645', 'maria@gmail.com')\n",
        "]\n",
        "\n",
        "cursor.executemany(\"INSERT INTO contatos (nome, telefone, email) VALUES (?, ?, ?)\", novos_contatos)\n",
        "conn.commit()\n",
        "\n",
        "cursor.execute(\"SELECT * FROM contatos\")\n",
        "contatos = cursor.fetchall()\n",
        "for contato in contatos:\n",
        "  print(contato)\n",
        "conn.commit()\n",
        "\n",
        "novo_numero = '11986754323' # Novo número que será adicionado\n",
        "contato_id = 2 # Id do contato que receberá a mudança de numero\n",
        "\n",
        "cursor.execute(\"UPDATE contatos SET telefone = ? WHERE id = ?\", (novo_numero, contato_id))\n",
        "conn.commit()\n",
        "\n",
        "print(\" \")\n",
        "cursor.execute(\"SELECT * FROM contatos\")\n",
        "for contato in contatos:\n",
        "  print(contato)\n",
        "conn.commit()\n",
        "\n",
        "delete_id = 1\n",
        "cursor.execute(\"DELETE FROM contatos WHERE id = ?\", (delete_id,))\n",
        "conn.commit()\n",
        "\n",
        "print(\" \")\n",
        "cursor.execute(\"SELECT * FROM contatos\")\n",
        "contatos = cursor.fetchall()\n",
        "for contato in contatos:\n",
        "  print(contato)\n",
        "\n",
        "conn.commit()\n",
        "conn.close()"
      ],
      "metadata": {
        "colab": {
          "base_uri": "https://localhost:8080/"
        },
        "id": "EvbvEVY2ZkRV",
        "outputId": "1ec32586-aceb-463f-dd01-594aef76c91b"
      },
      "execution_count": 20,
      "outputs": [
        {
          "output_type": "stream",
          "name": "stdout",
          "text": [
            "(1, 'João', '11979590643', 'joao@gmail.com')\n",
            "(2, 'Luiz', '11979590648', 'luiz@gmail.com')\n",
            "(3, 'Maria', '11959580645', 'maria@gmail.com')\n",
            " \n",
            "(1, 'João', '11979590643', 'joao@gmail.com')\n",
            "(2, 'Luiz', '11979590648', 'luiz@gmail.com')\n",
            "(3, 'Maria', '11959580645', 'maria@gmail.com')\n",
            " \n",
            "(2, 'Luiz', '11986754323', 'luiz@gmail.com')\n",
            "(3, 'Maria', '11959580645', 'maria@gmail.com')\n"
          ]
        }
      ]
    }
  ]
}