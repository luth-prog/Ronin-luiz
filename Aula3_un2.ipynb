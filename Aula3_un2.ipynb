{
  "nbformat": 4,
  "nbformat_minor": 0,
  "metadata": {
    "colab": {
      "provenance": [],
      "authorship_tag": "ABX9TyNhtG2Pxlkymruoe/mpuhM6",
      "include_colab_link": true
    },
    "kernelspec": {
      "name": "python3",
      "display_name": "Python 3"
    },
    "language_info": {
      "name": "python"
    }
  },
  "cells": [
    {
      "cell_type": "markdown",
      "metadata": {
        "id": "view-in-github",
        "colab_type": "text"
      },
      "source": [
        "<a href=\"https://colab.research.google.com/github/luth-prog/my_repository/blob/main/Aula3_un2.ipynb\" target=\"_parent\"><img src=\"https://colab.research.google.com/assets/colab-badge.svg\" alt=\"Open In Colab\"/></a>"
      ]
    },
    {
      "cell_type": "code",
      "execution_count": 2,
      "metadata": {
        "colab": {
          "base_uri": "https://localhost:8080/"
        },
        "id": "YMCv9X8fvkLU",
        "outputId": "edcc89ef-946d-4c51-ab39-6af5b6fc612b"
      },
      "outputs": [
        {
          "output_type": "stream",
          "name": "stdout",
          "text": [
            "Olá meu nome é João\n",
            "Idade: 30\n",
            "Nova idade: 31\n"
          ]
        }
      ],
      "source": [
        "#Define uma classe chamada pessoa\n",
        "class Pessoa:\n",
        "  #O metodo __init__ é um construtor, chamado quando um objeto da classe é criado\n",
        "  #Ele inicializa os atributos da classe\n",
        "  def __init__(self, nome, idade, genero):\n",
        "    #self é uma convensão em Python que se refere a própria instancia da classe\n",
        "    #Os parametros nome, idade e genero são passados durante a criação do objeto\n",
        "    #Eles são usados para inicializar os atributos da instancia\n",
        "    self.nome = nome #Atribui o valor de nome ao atributo nome da instância.\n",
        "    self.idade = idade #Atribui o valor de idade ao atributo idade da instância.\n",
        "    self.genero = genero #Atribui o valor de genero ao atributo genero da instância.\n",
        "  #O metodo cumprimentar retorna uma saudação com o nome da pessoa.\n",
        "  def cumprimentar(self):\n",
        "    return f\"Olá meu nome é {self.nome}\"\n",
        "  #O metodo aniversário aumenta a idade da pessoa em 1.\n",
        "  def aniversario(self):\n",
        "    self.idade += 1\n",
        "# Cria uma instancia da classe \"Pessoa\" com os valores \"João\", 30 e \"Masculino\" para nome, idade e genero, respectivamente.\n",
        "pessoa1 = Pessoa(\"João\", 30, \"Masculino\")\n",
        "# Chama o metodo \"cumprimentar\" na instancia pessoa1 e imprime a saudação\n",
        "print(pessoa1.cumprimentar()) # Saida será \"Olá meu nome é João\".\n",
        "# Acessa o atributo idade da intancia pessoa1 e imprime sua idade\n",
        "print(f\"Idade: {pessoa1.idade}\") # Saida será \"Idade: 30\"\n",
        "#Chama o metodo \"aniversário\" na instância pessoa1 para aumentar sua idade em 1.\n",
        "pessoa1.aniversario()\n",
        "#Acessa o atributo \"idade\" atualizado da instância pessoa1 e imprime a nova idade.\n",
        "print(f\"Nova idade: {pessoa1.idade}\") #Nova saída será: \"Idade: 31\"\n"
      ]
    },
    {
      "cell_type": "code",
      "source": [
        "class Animal:\n",
        "  def __init__(self, nome):\n",
        "    self.nome = nome\n",
        "  def fazer_barulho(self):\n",
        "    pass\n",
        "\n",
        "class Cachorro(Animal):\n",
        "  def fazer_barulho(self):\n",
        "    return \"Latir\"\n",
        "\n",
        "class Gato(Animal):\n",
        "  def fazer_barulho(self):\n",
        "    return \"Miar\"\n",
        "\n",
        "cachorro = Cachorro(\"Luna\")\n",
        "gato = Gato(\"Sombra\")\n",
        "\n",
        "print(f\"{cachorro.nome} faz: {cachorro.fazer_barulho()}\")\n",
        "print(f\"{gato.nome} faz: {gato.fazer_barulho()}\")"
      ],
      "metadata": {
        "colab": {
          "base_uri": "https://localhost:8080/"
        },
        "id": "D0ZsV5YMgEwi",
        "outputId": "e6b2eb9d-be43-4396-dcc0-f8baa571478c"
      },
      "execution_count": 3,
      "outputs": [
        {
          "output_type": "stream",
          "name": "stdout",
          "text": [
            "Luna faz: Latir\n",
            "Sombra faz: Miar\n"
          ]
        }
      ]
    },
    {
      "cell_type": "code",
      "source": [
        "# Atividade\n",
        "\n",
        "class Veiculo:\n",
        "  def __init__(self, marca, modelo, ano):\n",
        "    self.marca = marca\n",
        "    self.modelo = modelo\n",
        "    self.ano = ano\n",
        "    self.velocidade = 0\n",
        "\n",
        "  def acelerar(self, incremento):\n",
        "    self.velocidade += incremento\n",
        "\n",
        "  def frear(self, decremento):\n",
        "    self.velocidade -= decremento\n",
        "\n",
        "  def status(self):\n",
        "    return f\"Marca: {self.marca} \\nModelo: {self.modelo} \\nAno: {self.ano} \\nVelocidade: {self.velocidade}km/h.\"\n",
        "\n",
        "class Carro(Veiculo):\n",
        "  def __init__(self, marca, modelo, ano, potencia):\n",
        "    super().__init__(marca, modelo, ano)\n",
        "    self.potencia = potencia\n",
        "\n",
        "  def acelerar(self, incremento):\n",
        "    # Carros podem acelerar mais rapido.\n",
        "    self.velocidade += incremento + self.potencia\n",
        "\n",
        "class Bicicleta(Veiculo):\n",
        "  def __init__(self, marca, modelo, ano, tipo):\n",
        "    super().__init__(marca, modelo, ano)\n",
        "    self.tipo = tipo\n",
        "\n",
        "  def status(self):\n",
        "    return f\"Marca: {self.marca} \\nModelo: {self.modelo} \\nAno: {self.ano} \\nTipo: {self.tipo} \\nVelocidade: {self.velocidade}km/h.\"\n",
        "\n",
        "\n",
        "# Criando os objetos\n",
        "carro1 = Carro(\"Toyota\", \"Corolla\", 2022, 50)\n",
        "bicicleta1 = Bicicleta(\"Trek\", \"Mountain Bike\", 2021, \"MTB\")\n",
        "\n",
        "#Verificando o status dos veiculos\n",
        "carro1.acelerar(50)\n",
        "bicicleta1.acelerar(30)\n",
        "\n",
        "# Exibindo status dos veiculos\n",
        "print(\"Status do Carro:\")\n",
        "print(carro1.status())\n",
        "\n",
        "print(\"\\nStatus da Bicicleta\")\n",
        "print(bicicleta1.status())\n",
        "\n"
      ],
      "metadata": {
        "colab": {
          "base_uri": "https://localhost:8080/"
        },
        "id": "RHcqzEqinpOC",
        "outputId": "3a862156-cc95-4178-bf6c-7d8271cadd56"
      },
      "execution_count": 7,
      "outputs": [
        {
          "output_type": "stream",
          "name": "stdout",
          "text": [
            "Status do Carro:\n",
            "Marca: Toyota \n",
            "Modelo: Corolla \n",
            "Ano: 2022 \n",
            "Velocidade: 100km/h.\n",
            "\n",
            "Status da Bicicleta\n",
            "Marca: Trek \n",
            "Modelo: Mountain Bike \n",
            "Ano: 2021 \n",
            "Tipo: MTB \n",
            "Velocidade: 30km/h.\n"
          ]
        }
      ]
    }
  ]
}