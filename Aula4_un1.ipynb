{
  "nbformat": 4,
  "nbformat_minor": 0,
  "metadata": {
    "colab": {
      "provenance": [],
      "authorship_tag": "ABX9TyMehfdkyvGeQGeSrjIZ87TA",
      "include_colab_link": true
    },
    "kernelspec": {
      "name": "python3",
      "display_name": "Python 3"
    },
    "language_info": {
      "name": "python"
    }
  },
  "cells": [
    {
      "cell_type": "markdown",
      "metadata": {
        "id": "view-in-github",
        "colab_type": "text"
      },
      "source": [
        "<a href=\"https://colab.research.google.com/github/luth-prog/my_repository/blob/main/Aula4_un1.ipynb\" target=\"_parent\"><img src=\"https://colab.research.google.com/assets/colab-badge.svg\" alt=\"Open In Colab\"/></a>"
      ]
    },
    {
      "cell_type": "code",
      "execution_count": null,
      "metadata": {
        "colab": {
          "base_uri": "https://localhost:8080/"
        },
        "id": "OIBb-z_XjE6g",
        "outputId": "728ac099-39c7-4f48-eb18-fbf0f86cd90b"
      },
      "outputs": [
        {
          "output_type": "stream",
          "name": "stdout",
          "text": [
            "O tamanho da sua lista é: 6\n"
          ]
        }
      ],
      "source": [
        "#Cria uma lista de numeros\n",
        "numeros = [1, 2, 3, 4, 5, 6]\n",
        "\n",
        "#Usa a função len() para calcular o tamanho da lista\n",
        "comprimento = len(numeros)\n",
        "\n",
        "#Imprime para nós o tamanho da lista\n",
        "print(f\"O tamanho da sua lista é: {comprimento}\")"
      ]
    },
    {
      "cell_type": "code",
      "source": [
        "def soma(a, b):\n",
        "  resultado = a + b\n",
        "  print(f\"A soma de {a} e {b} é {resultado}\")\n",
        "  return resultado"
      ],
      "metadata": {
        "id": "xYGG1G-5ojH_"
      },
      "execution_count": null,
      "outputs": []
    },
    {
      "cell_type": "code",
      "source": [
        "def e_par(resultado):\n",
        "  if resultado % 2 == 0:\n",
        "    return True\n",
        "  else:\n",
        "    return False"
      ],
      "metadata": {
        "id": "s62KYT2cqvGl"
      },
      "execution_count": null,
      "outputs": []
    },
    {
      "cell_type": "code",
      "source": [
        "a = int(input(\"Digite o primeiro numero: \"))\n",
        "b = int(input(\"Digite o segundo numero: \"))\n",
        "\n",
        "resultado = soma(a, b)\n",
        "\n",
        "e_par(resultado)"
      ],
      "metadata": {
        "colab": {
          "base_uri": "https://localhost:8080/"
        },
        "id": "hwyB_SM6rBPC",
        "outputId": "14e8109a-f93e-4abc-9834-8d0a7e1eae25"
      },
      "execution_count": null,
      "outputs": [
        {
          "output_type": "stream",
          "name": "stdout",
          "text": [
            "Digite o primeiro numero: 56\n",
            "Digite o segundo numero: 57\n",
            "A soma de 56 e 57 é 113\n"
          ]
        },
        {
          "output_type": "execute_result",
          "data": {
            "text/plain": [
              "False"
            ]
          },
          "metadata": {},
          "execution_count": 21
        }
      ]
    },
    {
      "cell_type": "code",
      "source": [
        "soma = lambda a, b: a + b\n",
        "resultado = soma(a, b)\n",
        "print(resultado)"
      ],
      "metadata": {
        "colab": {
          "base_uri": "https://localhost:8080/"
        },
        "id": "2AsHErJh9TIZ",
        "outputId": "8d07eaad-85cb-4008-8527-dac733166f42"
      },
      "execution_count": null,
      "outputs": [
        {
          "output_type": "stream",
          "name": "stdout",
          "text": [
            "113\n"
          ]
        }
      ]
    },
    {
      "cell_type": "code",
      "source": [
        "#atividade\n",
        "\n",
        "nome = ''\n",
        "\n",
        "def media(nota1, nota2):\n",
        "  resultado = (nota1 + nota2) / 2\n",
        "  print(f\"A media do aluno {nome} é {resultado}\")\n",
        "\n",
        "  if resultado >= 7:\n",
        "    print(\"Aluno Aprovado!\")\n",
        "  else:\n",
        "    print(\"Aluno Reprovado!\")\n",
        "\n",
        "  return resultado\n",
        "\n",
        "\n",
        "cmc = input(\"Vamos começar? (s/n)\")\n",
        "\n",
        "while cmc == 's':\n",
        "  nome = input(\"Digite o nome do aluno: \")\n",
        "  nota1 = float(input(\"Digite a primeira nota: \"))\n",
        "  nota2 = float(input(\"Digite a segunda nota: \"))\n",
        "\n",
        "  media(nota1, nota2)\n",
        "\n",
        "  cmc = input(\"Deseja continuar? (s/n)\")\n",
        "\n",
        "if cmc == 'n':\n",
        "  print(\"É uma pena que já esteja indo até a proxima.\")\n",
        "\n"
      ],
      "metadata": {
        "id": "3i9IPgl8_xYB"
      },
      "execution_count": null,
      "outputs": []
    }
  ]
}